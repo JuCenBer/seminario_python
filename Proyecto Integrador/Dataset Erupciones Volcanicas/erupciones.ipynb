{
 "cells": [
  {
   "cell_type": "markdown",
   "metadata": {},
   "source": [
    "# Erupciones Volcánicas"
   ]
  },
  {
   "cell_type": "code",
   "execution_count": 19,
   "metadata": {},
   "outputs": [],
   "source": [
    "import os\n",
    "import csv\n",
    "from deep_translator import GoogleTranslator\n",
    "\n",
    "def traducir(palabra):\n",
    "    if(palabra not in cache):\n",
    "        cache[palabra] = GoogleTranslator(\n",
    "            str=\"english\", target=\"spanish\").translate(palabra).title()\n",
    "    return cache[palabra]\n",
    "\n",
    "ruta = os.path.realpath(\"significant-volcanic-eruption-database.csv\")\n",
    "ruta_nuevo = os.path.realpath(\"significant-volcanic-eruption-database_FORMATEADO.csv\")\n",
    "with open(ruta, \"r\", encoding=\"utf-8\") as archivo, open(ruta_nuevo, \"w\", encoding=\"utf-8\", newline=\"\") as archivo_nuevo:\n",
    "    reader = csv.reader(archivo, delimiter = \";\")\n",
    "    writer = csv.writer(archivo_nuevo, delimiter = \",\")\n",
    "    cabecera = next(reader)\n",
    "\n",
    "    #Escribo la nueva cabecera\n",
    "    writer.writerow([cabecera[0], cabecera[11], cabecera[9], cabecera[3], cabecera[4], 'Name and Country'])\n",
    "    listado_erupciones = list(reader)\n",
    "    cache = dict()\n",
    "    #Se procesan las lineas\n",
    "    for linea in listado_erupciones:\n",
    "        linea[9] = traducir(linea[9])\n",
    "        linea[0] = linea[0].strip(\"-\")\n",
    "        linea[3] = True if 'Tsunami' in linea[3] else False\n",
    "        linea[4] = True if 'Earthquake' in linea[4] else False\n",
    "        if linea[11] == '':\n",
    "            linea[11] = 0\n",
    "        writer.writerow([linea[0], linea[11], linea[9], linea[3],\n",
    "                        linea[4], ''.join(linea[5]+\" (\"+linea[7]+\")\")])"
   ]
  }
 ],
 "metadata": {
  "interpreter": {
   "hash": "8e42de7f272af51c46ecb9fd929a1de0dc71ee5576f9fc3b15c6c7432bd66913"
  },
  "kernelspec": {
   "display_name": "Python 3.10.0 64-bit",
   "language": "python",
   "name": "python3"
  },
  "language_info": {
   "codemirror_mode": {
    "name": "ipython",
    "version": 3
   },
   "file_extension": ".py",
   "mimetype": "text/x-python",
   "name": "python",
   "nbconvert_exporter": "python",
   "pygments_lexer": "ipython3",
   "version": "3.10.0"
  },
  "orig_nbformat": 4
 },
 "nbformat": 4,
 "nbformat_minor": 2
}

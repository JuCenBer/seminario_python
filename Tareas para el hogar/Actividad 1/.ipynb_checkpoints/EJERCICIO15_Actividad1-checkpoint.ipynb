{
 "cells": [
  {
   "cell_type": "markdown",
   "id": "b015a19f",
   "metadata": {},
   "source": [
    "# Actividad 1 por Python plus\n"
   ]
  },
  {
   "cell_type": "markdown",
   "id": "b0d0ad1d",
   "metadata": {},
   "source": [
    "## Parte I: resolvé el siguiente desafío:"
   ]
  },
  {
   "cell_type": "markdown",
   "id": "f27a3021",
   "metadata": {},
   "source": [
    "EJERCICIO 15: dado el archivo denominado [TOTAL_nuevo.csv](https://archivos.linti.unlp.edu.ar/index.php/s/7zTP1JtN2KKTqYu) que contiene la actividad realizada en las clases  de la materia a través de catedras.linti, se desea generar un archivo con aquellos usuarios que accedieron a la actividad de otro usuario (Columna: Usuario afectado). Generar la siguiente estructura: usuario: lista de usuarios afectados (sin repetir)."
   ]
  },
  {
   "cell_type": "code",
   "execution_count": 25,
   "id": "5021bb7c",
   "metadata": {},
   "outputs": [],
   "source": [
    "#Solución\n",
    "import csv\n",
    "import json\n",
    "import os\n",
    "\n",
    "ruta = os.getcwd()\n",
    "\n",
    "archivo = open(os.path.join(ruta,\"TOTAL_nuevo.csv\"), 'r', encoding=\"UTF-8\")\n",
    "archivoSalida = open(os.path.join(ruta,\"listadoUsuarios.json\"), 'w', encoding=\"UTF-8\")\n",
    "csvreader = csv.reader(archivo, delimiter=',')\n",
    "\n",
    "next(csvreader)\n",
    "\n",
    "estructura = {}\n",
    "for linea in csvreader:\n",
    "    if((linea[2] != '-') and (linea[1] != linea[2])):\n",
    "        if ((linea[1] in estructura) and not(linea[2] in estructura[linea[1]])):\n",
    "            estructura[linea[1]].append(linea[2])\n",
    "        else:\n",
    "            estructura[linea[1]] = [linea[2]]\n",
    "\n",
    "lista = []   \n",
    "for usuario in estructura:\n",
    "    lista.append({usuario: estructura[usuario]})\n",
    "    \n",
    "json.dump(lista, archivoSalida)\n",
    "\n",
    "archivo.close()\n",
    "archivoSalida.close()\n",
    "\n"
   ]
  },
  {
   "cell_type": "code",
   "execution_count": null,
   "id": "13d9a55d",
   "metadata": {},
   "outputs": [],
   "source": []
  }
 ],
 "metadata": {
  "kernelspec": {
   "display_name": "Python 3 (ipykernel)",
   "language": "python",
   "name": "python3"
  },
  "language_info": {
   "codemirror_mode": {
    "name": "ipython",
    "version": 3
   },
   "file_extension": ".py",
   "mimetype": "text/x-python",
   "name": "python",
   "nbconvert_exporter": "python",
   "pygments_lexer": "ipython3",
   "version": "3.10.0"
  }
 },
 "nbformat": 4,
 "nbformat_minor": 5
}

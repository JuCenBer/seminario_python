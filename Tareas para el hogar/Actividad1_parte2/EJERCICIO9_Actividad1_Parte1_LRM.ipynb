{
  "cells": [
    {
      "cell_type": "markdown",
      "id": "b015a19f",
      "metadata": {
        "id": "b015a19f"
      },
      "source": [
        "# Actividad 1 por Python plus\n"
      ]
    },
    {
      "cell_type": "markdown",
      "id": "b0d0ad1d",
      "metadata": {
        "id": "b0d0ad1d"
      },
      "source": [
        "## Parte I: resolvé el siguiente desafío:"
      ]
    },
    {
      "cell_type": "markdown",
      "id": "4befc6c3",
      "metadata": {
        "id": "4befc6c3"
      },
      "source": [
        "EJERCICIO 9: dado el archivo denominado [BBB_nuevo.csv](https://archivos.linti.unlp.edu.ar/index.php/s/q9b3rCrlhOS1yWU) que contiene los accesos al recurso BigBlueButton que usamos para las clases virtuales de la materia, se desea generar una archivo con todos aquellos usuarios que visualizaron la grabación el día 6 de abril."
      ]
    },
    {
      "cell_type": "code",
      "execution_count": 51,
      "id": "CXxG9oBtv5ug",
      "metadata": {
        "id": "CXxG9oBtv5ug"
      },
      "outputs": [],
      "source": [
        "import csv"
      ]
    },
    {
      "cell_type": "code",
      "execution_count": 79,
      "id": "5021bb7c",
      "metadata": {
        "id": "5021bb7c"
      },
      "outputs": [],
      "source": [
        "# abro el archivo entregado\n",
        "with open('BBB_nuevo.csv', 'r', encoding='utf-8') as datos:\n",
        "    reader = csv.reader(datos, delimiter=',')\n",
        "\n",
        "    #genero el archivo nuevo\n",
        "    with open('archivo_generado.txt', 'w', encoding='utf-8') as nuevo:\n",
        "        writer = csv.writer(nuevo, delimiter=',')\n",
        "\n",
        "        # por cada fila en el arhivo leído, proceso\n",
        "        for row in reader:\n",
        "            \n",
        "            # si  la cadena de fecha se encuentra en el primer lugar, segun el archivo,\n",
        "            # me quedo con la informacion del usuario\n",
        "            if '6/04/2022' in row[0]:\n",
        "                writer.writerow((row))\n",
        "\n",
        "                # alternativa:\n",
        "                # esto devuelve el nombre del usuario en esa fecha\n",
        "                #writer.writerow((row)[1])\n",
        "\n",
        "\n",
        "\n",
        "\n",
        "\n",
        "\n"
      ]
    }
  ],
  "metadata": {
    "colab": {
      "name": "EJERCICIO9_Actividad1_Parte1_LRM.ipynb",
      "provenance": []
    },
    "kernelspec": {
      "display_name": "Python 3 (ipykernel)",
      "language": "python",
      "name": "python3"
    },
    "language_info": {
      "codemirror_mode": {
        "name": "ipython",
        "version": 3
      },
      "file_extension": ".py",
      "mimetype": "text/x-python",
      "name": "python",
      "nbconvert_exporter": "python",
      "pygments_lexer": "ipython3",
      "version": "3.10.2"
    }
  },
  "nbformat": 4,
  "nbformat_minor": 5
}

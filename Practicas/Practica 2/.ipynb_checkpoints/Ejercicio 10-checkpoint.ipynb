{
 "cells": [
  {
   "cell_type": "markdown",
   "id": "fefb9acc",
   "metadata": {},
   "source": [
    "## Ejercicio 10, Practica 2\n",
    "\n",
    "Trabajando con los contenidos de los archivos que pueden acceder en el curso:\n",
    "* nombres\n",
    "* eval1\n",
    "* eval2\n",
    "\n",
    "Manipule estos archivos para realizar lo siguiente:\n",
    "Generar una estructura con los nombres de los estudiantes y la suma de ambas notas.\n",
    "Calcular el promedio de las notas totales e informar que alumnos obtuvieron menos que el\n",
    "promedio.\n"
   ]
  },
  {
   "cell_type": "code",
   "execution_count": null,
   "id": "ec635781",
   "metadata": {},
   "outputs": [],
   "source": []
  }
 ],
 "metadata": {
  "kernelspec": {
   "display_name": "Python 3 (ipykernel)",
   "language": "python",
   "name": "python3"
  },
  "language_info": {
   "codemirror_mode": {
    "name": "ipython",
    "version": 3
   },
   "file_extension": ".py",
   "mimetype": "text/x-python",
   "name": "python",
   "nbconvert_exporter": "python",
   "pygments_lexer": "ipython3",
   "version": "3.10.0"
  }
 },
 "nbformat": 4,
 "nbformat_minor": 5
}

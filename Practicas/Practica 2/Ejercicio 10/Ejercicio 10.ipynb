{
 "cells": [
  {
   "cell_type": "markdown",
   "id": "9d1a0c53",
   "metadata": {},
   "source": [
    "# Ejercicio 10, Practica 2\n",
    "\n",
    "Trabajando con los contenidos de los archivos que pueden acceder en el curso:\n",
    "* nombres\n",
    "* eval1\n",
    "* eval2\n",
    "\n",
    "Manipule estos archivos para realizar lo siguiente:\n",
    "Generar una estructura con los nombres de los estudiantes y la suma de ambas notas.\n",
    "Calcular el promedio de las notas totales e informar que alumnos obtuvieron menos que el\n",
    "promedio.\n"
   ]
  },
  {
   "cell_type": "markdown",
   "id": "d86fd8c7",
   "metadata": {},
   "source": [
    "## Inicializacion de variables\n",
    "\n",
    "Para resolver el problema, debo de manejar 3 archivos. Para ello, debo importar el paquete _os_ y ubicar los archivos"
   ]
  },
  {
   "cell_type": "code",
   "execution_count": 3,
   "id": "908360e1",
   "metadata": {},
   "outputs": [],
   "source": [
    "import os\n",
    "\n",
    "ruta = os.path.join(os.path.dirname(os.path.realpath(\".\")), \"Ejercicio 10\")\n",
    "\n",
    "estudiantes = {}\n",
    "archivo_eval1 = open(os.path.join(ruta, \"eval1.txt\"), 'r', encoding=\"UTF-8\")\n",
    "archivo_eval2 = open(os.path.join(ruta, \"eval2.txt\"), \"r\", encoding=\"UTF-8\")\n",
    "archivo_nombres1 = open(os.path.join(\n",
    "    ruta, \"nombres_1.txt\"), \"r\", encoding=\"UTF-8\")"
   ]
  },
  {
   "cell_type": "markdown",
   "id": "a277100d",
   "metadata": {},
   "source": [
    "## Lectura de la informacion\n",
    "\n",
    "Una vez que tenia las variables asociadas a cada archivo, debia obtener la informacion que estas contenian, para eso, lei todas las lineas de los mismos, y, para un mejor manejo, les elimine los saltos de linea, los espacios que estaban de más, y los guarde en listas"
   ]
  },
  {
   "cell_type": "code",
   "execution_count": 11,
   "id": "e9ced880",
   "metadata": {},
   "outputs": [
    {
     "ename": "TypeError",
     "evalue": "strip expected at most 1 argument, got 2",
     "output_type": "error",
     "traceback": [
      "\u001b[1;31m---------------------------------------------------------------------------\u001b[0m",
      "\u001b[1;31mTypeError\u001b[0m                                 Traceback (most recent call last)",
      "Input \u001b[1;32mIn [11]\u001b[0m, in \u001b[0;36m<cell line: 4>\u001b[1;34m()\u001b[0m\n\u001b[0;32m      1\u001b[0m nombres1 \u001b[38;5;241m=\u001b[39m archivo_nombres1\u001b[38;5;241m.\u001b[39mread()\u001b[38;5;241m.\u001b[39mreplace(\n\u001b[0;32m      2\u001b[0m     \u001b[38;5;124m\"\u001b[39m\u001b[38;5;130;01m\\n\u001b[39;00m\u001b[38;5;124m\"\u001b[39m, \u001b[38;5;124m\"\u001b[39m\u001b[38;5;124m\"\u001b[39m)\u001b[38;5;241m.\u001b[39mreplace(\u001b[38;5;124m\"\u001b[39m\u001b[38;5;124m'\u001b[39m\u001b[38;5;124m\"\u001b[39m, \u001b[38;5;124m\"\u001b[39m\u001b[38;5;124m\"\u001b[39m)\u001b[38;5;241m.\u001b[39msplit(\u001b[38;5;124m\"\u001b[39m\u001b[38;5;124m,\u001b[39m\u001b[38;5;124m\"\u001b[39m)\n\u001b[1;32m----> 4\u001b[0m notas1 \u001b[38;5;241m=\u001b[39m \u001b[43marchivo_eval1\u001b[49m\u001b[38;5;241;43m.\u001b[39;49m\u001b[43mread\u001b[49m\u001b[43m(\u001b[49m\u001b[43m)\u001b[49m\u001b[38;5;241;43m.\u001b[39;49m\u001b[43mreplace\u001b[49m\u001b[43m(\u001b[49m\u001b[38;5;124;43m\"\u001b[39;49m\u001b[38;5;130;43;01m\\n\u001b[39;49;00m\u001b[38;5;124;43m\"\u001b[39;49m\u001b[43m,\u001b[49m\u001b[43m \u001b[49m\u001b[38;5;124;43m\"\u001b[39;49m\u001b[38;5;124;43m\"\u001b[39;49m\u001b[43m)\u001b[49m\u001b[38;5;241;43m.\u001b[39;49m\u001b[43mstrip\u001b[49m\u001b[43m(\u001b[49m\u001b[38;5;124;43m\"\u001b[39;49m\u001b[38;5;124;43m \u001b[39;49m\u001b[38;5;124;43m\"\u001b[39;49m\u001b[43m,\u001b[49m\u001b[43m \u001b[49m\u001b[38;5;124;43m\"\u001b[39;49m\u001b[38;5;124;43m\"\u001b[39;49m\u001b[43m)\u001b[49m\u001b[38;5;241m.\u001b[39msplit(\u001b[38;5;124m\"\u001b[39m\u001b[38;5;124m,\u001b[39m\u001b[38;5;124m\"\u001b[39m)\n\u001b[0;32m      5\u001b[0m notas2 \u001b[38;5;241m=\u001b[39m archivo_eval2\u001b[38;5;241m.\u001b[39mread()\u001b[38;5;241m.\u001b[39mreplace(\u001b[38;5;124m\"\u001b[39m\u001b[38;5;130;01m\\n\u001b[39;00m\u001b[38;5;124m\"\u001b[39m, \u001b[38;5;124m\"\u001b[39m\u001b[38;5;124m\"\u001b[39m)\u001b[38;5;241m.\u001b[39mstrip(\u001b[38;5;124m\"\u001b[39m\u001b[38;5;124m \u001b[39m\u001b[38;5;124m\"\u001b[39m, \u001b[38;5;124m\"\u001b[39m\u001b[38;5;124m\"\u001b[39m)\u001b[38;5;241m.\u001b[39msplit(\u001b[38;5;124m\"\u001b[39m\u001b[38;5;124m,\u001b[39m\u001b[38;5;124m\"\u001b[39m)\n",
      "\u001b[1;31mTypeError\u001b[0m: strip expected at most 1 argument, got 2"
     ]
    }
   ],
   "source": [
    "nombres1 = archivo_nombres1.read().replace(\n",
    "    \"\\n\", \"\").replace(\"'\", \"\").split(\",\")\n",
    "\n",
    "notas1 = archivo_eval1.read().replace(\"\\n\", \"\").strip(\" \").split(\",\")\n",
    "notas2 = archivo_eval2.read().replace(\"\\n\", \"\").strip(\" \").split(\",\")"
   ]
  },
  {
   "cell_type": "markdown",
   "id": "ec44f6d6",
   "metadata": {},
   "source": [
    "## Almacenamiento de la informacion en una estructura adecuada y calculo del promedio global\n",
    "\n",
    "El ejercicio pide guardar los nombres de los estudiantes, con su respectiva nota total, la cual consiste en la suma de su nota almacenada en _eval1_ con la de la nota almacenada en _eval2_; y almacenarla en una estructura adecuada, la cual, a mi parecer, debia ser un diccionario."
   ]
  },
  {
   "cell_type": "code",
   "execution_count": 5,
   "id": "5bced32a",
   "metadata": {},
   "outputs": [],
   "source": [
    "total = 0\n",
    "for estudiante in range(len(nombres1)):\n",
    "    estudiantes[nombres1[estudiante]] = int(\n",
    "        notas1[estudiante]) + int(notas2[estudiante])\n",
    "    total += estudiantes[nombres1[estudiante]]"
   ]
  },
  {
   "cell_type": "markdown",
   "id": "99f9b65d",
   "metadata": {},
   "source": [
    "En el mismo momento en el que iba guardando los nombres de los estudiantes con sus respectivas notas totales, iba contabilizando la nota total global, con el fin de calcular el promedio del curso."
   ]
  },
  {
   "cell_type": "code",
   "execution_count": 6,
   "id": "fe8c212a",
   "metadata": {},
   "outputs": [
    {
     "name": "stdout",
     "output_type": "stream",
     "text": [
      "La nota promedio del total de notas es: 96.19148936170212\n"
     ]
    }
   ],
   "source": [
    "prom = total/len(nombres1)\n",
    "print(f'La nota promedio del total de notas es: {prom}')"
   ]
  },
  {
   "cell_type": "markdown",
   "id": "1a087185",
   "metadata": {},
   "source": [
    "## Informar alumnos cuya nota total sea menor a la del promedio global\n",
    "\n",
    "Finalmente, queda imprimir los nombres de aquellos alumnos que tengan una nota total menor al promedio global del curso. Para eso, itere a lo largo de todo el diccionario, comparando la nota total de cada alumno con la del promedio:"
   ]
  },
  {
   "cell_type": "code",
   "execution_count": 10,
   "id": "612994ff",
   "metadata": {},
   "outputs": [
    {
     "name": "stdout",
     "output_type": "stream",
     "text": [
      "   Nombre\tNota\n",
      "0   CESAR\t78        \n",
      "1   Diego\t33        \n",
      "2   Dolores\t53        \n",
      "3   DYLAN\t74        \n",
      "4   ELIANA\t13        \n",
      "5   Emanuel\t48        \n",
      "6   GONZALO\t76        \n",
      "7   Gregorio\t90        \n",
      "8   Ignacio\t21        \n",
      "9   Jonathan\t62        \n",
      "10   Jorge\t79        \n",
      "11   JUAN\t68        \n",
      "12   Julian\t87        \n",
      "13   Leonel\t55        \n",
      "14   Nicolás\t65        \n",
      "15   NICOLÁS\t22        \n",
      "16   Priscila\t24        \n",
      "17   Yanina\t84        \n"
     ]
    }
   ],
   "source": [
    "i = 0\n",
    "print('   Nombre\\tNota')\n",
    "for estudiante in estudiantes:\n",
    "    if(estudiantes[estudiante] < prom):\n",
    "        print(\n",
    "            f'{i}  {estudiante}\\t{estudiantes[estudiante]:<10}')\n",
    "        i += 1"
   ]
  },
  {
   "cell_type": "markdown",
   "id": "e49b6f37",
   "metadata": {},
   "source": [
    "Para eso, cree una lista con los nombres de todos los alumnos. "
   ]
  }
 ],
 "metadata": {
  "kernelspec": {
   "display_name": "Python 3 (ipykernel)",
   "language": "python",
   "name": "python3"
  },
  "language_info": {
   "codemirror_mode": {
    "name": "ipython",
    "version": 3
   },
   "file_extension": ".py",
   "mimetype": "text/x-python",
   "name": "python",
   "nbconvert_exporter": "python",
   "pygments_lexer": "ipython3",
   "version": "3.10.0"
  }
 },
 "nbformat": 4,
 "nbformat_minor": 5
}
